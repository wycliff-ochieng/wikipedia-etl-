{
 "cells": [
  {
   "cell_type": "code",
   "execution_count": 27,
   "metadata": {},
   "outputs": [],
   "source": [
    "import pandas as pd\n",
    "import psycopg2\n",
    "from sqlalchemy import create_engine"
   ]
  },
  {
   "cell_type": "code",
   "execution_count": 28,
   "metadata": {},
   "outputs": [],
   "source": [
    "df = pd.read_csv(\"University_cleaned.csv\", encoding='latin1')"
   ]
  },
  {
   "cell_type": "code",
   "execution_count": 29,
   "metadata": {},
   "outputs": [
    {
     "data": {
      "text/html": [
       "<div>\n",
       "<style scoped>\n",
       "    .dataframe tbody tr th:only-of-type {\n",
       "        vertical-align: middle;\n",
       "    }\n",
       "\n",
       "    .dataframe tbody tr th {\n",
       "        vertical-align: top;\n",
       "    }\n",
       "\n",
       "    .dataframe thead th {\n",
       "        text-align: right;\n",
       "    }\n",
       "</style>\n",
       "<table border=\"1\" class=\"dataframe\">\n",
       "  <thead>\n",
       "    <tr style=\"text-align: right;\">\n",
       "      <th></th>\n",
       "      <th>Country</th>\n",
       "      <th>University</th>\n",
       "      <th>Founded</th>\n",
       "      <th>Type</th>\n",
       "      <th>Enrollment</th>\n",
       "      <th>Link</th>\n",
       "    </tr>\n",
       "  </thead>\n",
       "  <tbody>\n",
       "    <tr>\n",
       "      <th>0</th>\n",
       "      <td>Albania</td>\n",
       "      <td>University of Tirana</td>\n",
       "      <td>1957</td>\n",
       "      <td>Public</td>\n",
       "      <td>35000</td>\n",
       "      <td>https://en.wikipedia.org/wiki/University_of_Ti...</td>\n",
       "    </tr>\n",
       "    <tr>\n",
       "      <th>1</th>\n",
       "      <td>Algeria</td>\n",
       "      <td>Constantine University</td>\n",
       "      <td>1978</td>\n",
       "      <td>Public</td>\n",
       "      <td>85000</td>\n",
       "      <td>https://en.wikipedia.org/wiki/List_of_universi...</td>\n",
       "    </tr>\n",
       "    <tr>\n",
       "      <th>2</th>\n",
       "      <td>Angola</td>\n",
       "      <td>Agostinho Neto University</td>\n",
       "      <td>1962</td>\n",
       "      <td>Public</td>\n",
       "      <td>29827</td>\n",
       "      <td>https://en.wikipedia.org/wiki/Agostinho_Neto_U...</td>\n",
       "    </tr>\n",
       "    <tr>\n",
       "      <th>3</th>\n",
       "      <td>Argentina</td>\n",
       "      <td>University of Buenos Aires</td>\n",
       "      <td>1821</td>\n",
       "      <td>Public</td>\n",
       "      <td>311175</td>\n",
       "      <td>https://en.wikipedia.org/wiki/University_of_Bu...</td>\n",
       "    </tr>\n",
       "    <tr>\n",
       "      <th>4</th>\n",
       "      <td>Australia</td>\n",
       "      <td>Monash University</td>\n",
       "      <td>1958</td>\n",
       "      <td>Public</td>\n",
       "      <td>73807</td>\n",
       "      <td>https://en.wikipedia.org/wiki/Monash_University</td>\n",
       "    </tr>\n",
       "  </tbody>\n",
       "</table>\n",
       "</div>"
      ],
      "text/plain": [
       "     Country                  University  Founded    Type  Enrollment  \\\n",
       "0    Albania        University of Tirana     1957  Public       35000   \n",
       "1    Algeria      Constantine University     1978  Public       85000   \n",
       "2     Angola   Agostinho Neto University     1962  Public       29827   \n",
       "3  Argentina  University of Buenos Aires     1821  Public      311175   \n",
       "4  Australia           Monash University     1958  Public       73807   \n",
       "\n",
       "                                                Link  \n",
       "0  https://en.wikipedia.org/wiki/University_of_Ti...  \n",
       "1  https://en.wikipedia.org/wiki/List_of_universi...  \n",
       "2  https://en.wikipedia.org/wiki/Agostinho_Neto_U...  \n",
       "3  https://en.wikipedia.org/wiki/University_of_Bu...  \n",
       "4    https://en.wikipedia.org/wiki/Monash_University  "
      ]
     },
     "execution_count": 29,
     "metadata": {},
     "output_type": "execute_result"
    }
   ],
   "source": [
    "df.head(5)"
   ]
  },
  {
   "cell_type": "code",
   "execution_count": 30,
   "metadata": {},
   "outputs": [],
   "source": [
    "conn = psycopg2.connect(\n",
    "    host = 'localhost',\n",
    "    port = 5435,\n",
    "    user = 'amdariuser',\n",
    "    password ='example',\n",
    "    database = 'amdaridb'\n",
    ")"
   ]
  },
  {
   "cell_type": "code",
   "execution_count": 31,
   "metadata": {},
   "outputs": [],
   "source": [
    "cursor = conn.cursor()"
   ]
  },
  {
   "cell_type": "code",
   "execution_count": 32,
   "metadata": {},
   "outputs": [
    {
     "data": {
      "text/plain": [
       "'CREATE TABLE university(\\n    id  BIGSERIAL NOT NULL,\\n    country VARCHAR(200) NOT NULL,\\n    name VARCHAR(200) NOT NULL,\\n    founded INT NOT NULL,\\n    type VARCHAR(200) NOT NULL,\\n    enrollment BIGINT NOT NULL,\\n    link VARCHAR(200) NOT NULL,\\n    CONSTRAINT unique_combination UNIQUE(country,name)\\n);\\n\\n    \\n'"
      ]
     },
     "execution_count": 32,
     "metadata": {},
     "output_type": "execute_result"
    }
   ],
   "source": [
    "create_query_file = open(\"./sql/postgres_create_table.sql\")\n",
    "create_query = create_query_file.read()\n",
    "create_query"
   ]
  },
  {
   "cell_type": "code",
   "execution_count": 36,
   "metadata": {},
   "outputs": [
    {
     "ename": "DuplicateTable",
     "evalue": "relation \"university\" already exists\n",
     "output_type": "error",
     "traceback": [
      "\u001b[1;31m---------------------------------------------------------------------------\u001b[0m",
      "\u001b[1;31mDuplicateTable\u001b[0m                            Traceback (most recent call last)",
      "Cell \u001b[1;32mIn[36], line 1\u001b[0m\n\u001b[1;32m----> 1\u001b[0m \u001b[43mcursor\u001b[49m\u001b[38;5;241;43m.\u001b[39;49m\u001b[43mexecute\u001b[49m\u001b[43m(\u001b[49m\u001b[43mcreate_query\u001b[49m\u001b[43m)\u001b[49m\n",
      "\u001b[1;31mDuplicateTable\u001b[0m: relation \"university\" already exists\n"
     ]
    }
   ],
   "source": [
    "cursor.execute(create_query)"
   ]
  },
  {
   "cell_type": "code",
   "execution_count": 37,
   "metadata": {},
   "outputs": [],
   "source": [
    "conn.commit()"
   ]
  },
  {
   "cell_type": "code",
   "execution_count": 35,
   "metadata": {},
   "outputs": [],
   "source": [
    "conn.rollback()"
   ]
  },
  {
   "cell_type": "code",
   "execution_count": 38,
   "metadata": {},
   "outputs": [],
   "source": [
    "engine = create_engine(\"postgresql+psycopg2://\", creator=lambda:conn)"
   ]
  },
  {
   "cell_type": "code",
   "execution_count": 39,
   "metadata": {},
   "outputs": [
    {
     "data": {
      "text/html": [
       "<div>\n",
       "<style scoped>\n",
       "    .dataframe tbody tr th:only-of-type {\n",
       "        vertical-align: middle;\n",
       "    }\n",
       "\n",
       "    .dataframe tbody tr th {\n",
       "        vertical-align: top;\n",
       "    }\n",
       "\n",
       "    .dataframe thead th {\n",
       "        text-align: right;\n",
       "    }\n",
       "</style>\n",
       "<table border=\"1\" class=\"dataframe\">\n",
       "  <thead>\n",
       "    <tr style=\"text-align: right;\">\n",
       "      <th></th>\n",
       "      <th>id</th>\n",
       "      <th>country</th>\n",
       "      <th>name</th>\n",
       "      <th>founded</th>\n",
       "      <th>type</th>\n",
       "      <th>enrollment</th>\n",
       "      <th>link</th>\n",
       "    </tr>\n",
       "  </thead>\n",
       "  <tbody>\n",
       "  </tbody>\n",
       "</table>\n",
       "</div>"
      ],
      "text/plain": [
       "Empty DataFrame\n",
       "Columns: [id, country, name, founded, type, enrollment, link]\n",
       "Index: []"
      ]
     },
     "execution_count": 39,
     "metadata": {},
     "output_type": "execute_result"
    }
   ],
   "source": [
    "pd.read_sql(\"SELECT * FROM university;\", con=engine)"
   ]
  },
  {
   "cell_type": "code",
   "execution_count": 44,
   "metadata": {},
   "outputs": [
    {
     "data": {
      "text/plain": [
       "'INSERT INTO university(country,name,founded,type,enrollment,link)\\nVALUES(%s,%s,%s,%s,%s,%s)\\nON CONFLICT(country,name) DO UPDATE\\nSET\\n    founded=EXCLUDED.founded,\\n    type=EXCLUDED.type,\\n    enrollment=EXCLUDED.enrollment,\\n    link=EXCLUDED.link;'"
      ]
     },
     "execution_count": 44,
     "metadata": {},
     "output_type": "execute_result"
    }
   ],
   "source": [
    "data = list(df.itertuples(name=None,index=None))\n",
    "merge_query_file = open(\"./sql/postgre_upsert.sql\")\n",
    "merge_query = merge_query_file.read()\n",
    "merge_query"
   ]
  },
  {
   "cell_type": "code",
   "execution_count": 45,
   "metadata": {},
   "outputs": [],
   "source": [
    "cursor.executemany(merge_query,data)"
   ]
  },
  {
   "cell_type": "code",
   "execution_count": 46,
   "metadata": {},
   "outputs": [
    {
     "data": {
      "text/html": [
       "<div>\n",
       "<style scoped>\n",
       "    .dataframe tbody tr th:only-of-type {\n",
       "        vertical-align: middle;\n",
       "    }\n",
       "\n",
       "    .dataframe tbody tr th {\n",
       "        vertical-align: top;\n",
       "    }\n",
       "\n",
       "    .dataframe thead th {\n",
       "        text-align: right;\n",
       "    }\n",
       "</style>\n",
       "<table border=\"1\" class=\"dataframe\">\n",
       "  <thead>\n",
       "    <tr style=\"text-align: right;\">\n",
       "      <th></th>\n",
       "      <th>id</th>\n",
       "      <th>country</th>\n",
       "      <th>name</th>\n",
       "      <th>founded</th>\n",
       "      <th>type</th>\n",
       "      <th>enrollment</th>\n",
       "      <th>link</th>\n",
       "    </tr>\n",
       "  </thead>\n",
       "  <tbody>\n",
       "    <tr>\n",
       "      <th>0</th>\n",
       "      <td>1</td>\n",
       "      <td>Albania</td>\n",
       "      <td>University of Tirana</td>\n",
       "      <td>1957</td>\n",
       "      <td>Public</td>\n",
       "      <td>35000</td>\n",
       "      <td>https://en.wikipedia.org/wiki/University_of_Ti...</td>\n",
       "    </tr>\n",
       "    <tr>\n",
       "      <th>1</th>\n",
       "      <td>2</td>\n",
       "      <td>Algeria</td>\n",
       "      <td>Constantine University</td>\n",
       "      <td>1978</td>\n",
       "      <td>Public</td>\n",
       "      <td>85000</td>\n",
       "      <td>https://en.wikipedia.org/wiki/List_of_universi...</td>\n",
       "    </tr>\n",
       "    <tr>\n",
       "      <th>2</th>\n",
       "      <td>3</td>\n",
       "      <td>Angola</td>\n",
       "      <td>Agostinho Neto University</td>\n",
       "      <td>1962</td>\n",
       "      <td>Public</td>\n",
       "      <td>29827</td>\n",
       "      <td>https://en.wikipedia.org/wiki/Agostinho_Neto_U...</td>\n",
       "    </tr>\n",
       "    <tr>\n",
       "      <th>3</th>\n",
       "      <td>4</td>\n",
       "      <td>Argentina</td>\n",
       "      <td>University of Buenos Aires</td>\n",
       "      <td>1821</td>\n",
       "      <td>Public</td>\n",
       "      <td>311175</td>\n",
       "      <td>https://en.wikipedia.org/wiki/University_of_Bu...</td>\n",
       "    </tr>\n",
       "    <tr>\n",
       "      <th>4</th>\n",
       "      <td>5</td>\n",
       "      <td>Australia</td>\n",
       "      <td>Monash University</td>\n",
       "      <td>1958</td>\n",
       "      <td>Public</td>\n",
       "      <td>73807</td>\n",
       "      <td>https://en.wikipedia.org/wiki/Monash_University</td>\n",
       "    </tr>\n",
       "    <tr>\n",
       "      <th>...</th>\n",
       "      <td>...</td>\n",
       "      <td>...</td>\n",
       "      <td>...</td>\n",
       "      <td>...</td>\n",
       "      <td>...</td>\n",
       "      <td>...</td>\n",
       "      <td>...</td>\n",
       "    </tr>\n",
       "    <tr>\n",
       "      <th>65</th>\n",
       "      <td>66</td>\n",
       "      <td>Turkey</td>\n",
       "      <td>Anadolu University</td>\n",
       "      <td>1958</td>\n",
       "      <td>Public</td>\n",
       "      <td>1969733</td>\n",
       "      <td>https://en.wikipedia.org/wiki/Anadolu_University</td>\n",
       "    </tr>\n",
       "    <tr>\n",
       "      <th>66</th>\n",
       "      <td>67</td>\n",
       "      <td>United Kingdom</td>\n",
       "      <td>Open University</td>\n",
       "      <td>1969</td>\n",
       "      <td>Public</td>\n",
       "      <td>253075</td>\n",
       "      <td>https://en.wikipedia.org/wiki/Open_University</td>\n",
       "    </tr>\n",
       "    <tr>\n",
       "      <th>67</th>\n",
       "      <td>68</td>\n",
       "      <td>United States</td>\n",
       "      <td>Texas A&amp;M University</td>\n",
       "      <td>1876</td>\n",
       "      <td>Public</td>\n",
       "      <td>73284</td>\n",
       "      <td>https://en.wikipedia.org/wiki/Texas_A%26M_Univ...</td>\n",
       "    </tr>\n",
       "    <tr>\n",
       "      <th>68</th>\n",
       "      <td>69</td>\n",
       "      <td>Uruguay</td>\n",
       "      <td>University of the Republic</td>\n",
       "      <td>1949</td>\n",
       "      <td>Public</td>\n",
       "      <td>144108</td>\n",
       "      <td>https://en.wikipedia.org/wiki/University_of_th...</td>\n",
       "    </tr>\n",
       "    <tr>\n",
       "      <th>69</th>\n",
       "      <td>70</td>\n",
       "      <td>Venezuela</td>\n",
       "      <td>Universidad Central de Venezuela</td>\n",
       "      <td>1721</td>\n",
       "      <td>Public</td>\n",
       "      <td>41059</td>\n",
       "      <td>https://en.wikipedia.org/wiki/Universidad_Cent...</td>\n",
       "    </tr>\n",
       "  </tbody>\n",
       "</table>\n",
       "<p>70 rows × 7 columns</p>\n",
       "</div>"
      ],
      "text/plain": [
       "    id         country                              name  founded    type  \\\n",
       "0    1         Albania              University of Tirana     1957  Public   \n",
       "1    2         Algeria            Constantine University     1978  Public   \n",
       "2    3          Angola         Agostinho Neto University     1962  Public   \n",
       "3    4       Argentina        University of Buenos Aires     1821  Public   \n",
       "4    5       Australia                 Monash University     1958  Public   \n",
       "..  ..             ...                               ...      ...     ...   \n",
       "65  66          Turkey                Anadolu University     1958  Public   \n",
       "66  67  United Kingdom                   Open University     1969  Public   \n",
       "67  68   United States              Texas A&M University     1876  Public   \n",
       "68  69         Uruguay        University of the Republic     1949  Public   \n",
       "69  70       Venezuela  Universidad Central de Venezuela     1721  Public   \n",
       "\n",
       "    enrollment                                               link  \n",
       "0        35000  https://en.wikipedia.org/wiki/University_of_Ti...  \n",
       "1        85000  https://en.wikipedia.org/wiki/List_of_universi...  \n",
       "2        29827  https://en.wikipedia.org/wiki/Agostinho_Neto_U...  \n",
       "3       311175  https://en.wikipedia.org/wiki/University_of_Bu...  \n",
       "4        73807    https://en.wikipedia.org/wiki/Monash_University  \n",
       "..         ...                                                ...  \n",
       "65     1969733   https://en.wikipedia.org/wiki/Anadolu_University  \n",
       "66      253075      https://en.wikipedia.org/wiki/Open_University  \n",
       "67       73284  https://en.wikipedia.org/wiki/Texas_A%26M_Univ...  \n",
       "68      144108  https://en.wikipedia.org/wiki/University_of_th...  \n",
       "69       41059  https://en.wikipedia.org/wiki/Universidad_Cent...  \n",
       "\n",
       "[70 rows x 7 columns]"
      ]
     },
     "execution_count": 46,
     "metadata": {},
     "output_type": "execute_result"
    }
   ],
   "source": [
    "pd.read_sql(\"SELECT * FROM university;\", con=engine)"
   ]
  }
 ],
 "metadata": {
  "kernelspec": {
   "display_name": "venv",
   "language": "python",
   "name": "python3"
  },
  "language_info": {
   "codemirror_mode": {
    "name": "ipython",
    "version": 3
   },
   "file_extension": ".py",
   "mimetype": "text/x-python",
   "name": "python",
   "nbconvert_exporter": "python",
   "pygments_lexer": "ipython3",
   "version": "3.12.2"
  }
 },
 "nbformat": 4,
 "nbformat_minor": 2
}
